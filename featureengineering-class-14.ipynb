{
 "cells": [
  {
   "cell_type": "markdown",
   "id": "255dbbe4",
   "metadata": {
    "papermill": {
     "duration": 0.010519,
     "end_time": "2023-05-29T16:05:44.930954",
     "exception": false,
     "start_time": "2023-05-29T16:05:44.920435",
     "status": "completed"
    },
    "tags": []
   },
   "source": [
    "# Class 14"
   ]
  },
  {
   "cell_type": "markdown",
   "id": "7abc746a",
   "metadata": {
    "papermill": {
     "duration": 0.009465,
     "end_time": "2023-05-29T16:05:44.949521",
     "exception": false,
     "start_time": "2023-05-29T16:05:44.940056",
     "status": "completed"
    },
    "tags": []
   },
   "source": [
    "# Part-1"
   ]
  },
  {
   "cell_type": "code",
   "execution_count": 1,
   "id": "dcf0dd37",
   "metadata": {
    "execution": {
     "iopub.execute_input": "2023-05-29T16:05:44.970416Z",
     "iopub.status.busy": "2023-05-29T16:05:44.969277Z",
     "iopub.status.idle": "2023-05-29T16:05:46.831400Z",
     "shell.execute_reply": "2023-05-29T16:05:46.829517Z"
    },
    "papermill": {
     "duration": 1.877055,
     "end_time": "2023-05-29T16:05:46.834606",
     "exception": false,
     "start_time": "2023-05-29T16:05:44.957551",
     "status": "completed"
    },
    "tags": []
   },
   "outputs": [],
   "source": [
    "import pandas as pd \n",
    "import numpy as np\n",
    "from sklearn.datasets import make_classification\n",
    "#from sklearn.datasets import make_regression ## for regression"
   ]
  },
  {
   "cell_type": "code",
   "execution_count": 2,
   "id": "9cfab728",
   "metadata": {
    "execution": {
     "iopub.execute_input": "2023-05-29T16:05:46.853305Z",
     "iopub.status.busy": "2023-05-29T16:05:46.852343Z",
     "iopub.status.idle": "2023-05-29T16:05:46.972306Z",
     "shell.execute_reply": "2023-05-29T16:05:46.971047Z"
    },
    "papermill": {
     "duration": 0.132445,
     "end_time": "2023-05-29T16:05:46.975340",
     "exception": false,
     "start_time": "2023-05-29T16:05:46.842895",
     "status": "completed"
    },
    "tags": []
   },
   "outputs": [],
   "source": [
    "x,y = make_classification(n_samples=60000,n_features=25) #60k samples with 25 features"
   ]
  },
  {
   "cell_type": "code",
   "execution_count": 3,
   "id": "9c6f693d",
   "metadata": {
    "execution": {
     "iopub.execute_input": "2023-05-29T16:05:46.997178Z",
     "iopub.status.busy": "2023-05-29T16:05:46.996723Z",
     "iopub.status.idle": "2023-05-29T16:05:47.005114Z",
     "shell.execute_reply": "2023-05-29T16:05:47.003891Z"
    },
    "papermill": {
     "duration": 0.024674,
     "end_time": "2023-05-29T16:05:47.008121",
     "exception": false,
     "start_time": "2023-05-29T16:05:46.983447",
     "status": "completed"
    },
    "tags": []
   },
   "outputs": [
    {
     "data": {
      "text/plain": [
       "(60000, 25)"
      ]
     },
     "execution_count": 3,
     "metadata": {},
     "output_type": "execute_result"
    }
   ],
   "source": [
    "x.shape"
   ]
  },
  {
   "cell_type": "code",
   "execution_count": 4,
   "id": "7bd3ee65",
   "metadata": {
    "execution": {
     "iopub.execute_input": "2023-05-29T16:05:47.027442Z",
     "iopub.status.busy": "2023-05-29T16:05:47.026816Z",
     "iopub.status.idle": "2023-05-29T16:05:47.032971Z",
     "shell.execute_reply": "2023-05-29T16:05:47.032166Z"
    },
    "papermill": {
     "duration": 0.018767,
     "end_time": "2023-05-29T16:05:47.035476",
     "exception": false,
     "start_time": "2023-05-29T16:05:47.016709",
     "status": "completed"
    },
    "tags": []
   },
   "outputs": [
    {
     "data": {
      "text/plain": [
       "(60000,)"
      ]
     },
     "execution_count": 4,
     "metadata": {},
     "output_type": "execute_result"
    }
   ],
   "source": [
    "y.shape"
   ]
  },
  {
   "cell_type": "code",
   "execution_count": 5,
   "id": "57e0fe9d",
   "metadata": {
    "execution": {
     "iopub.execute_input": "2023-05-29T16:05:47.057031Z",
     "iopub.status.busy": "2023-05-29T16:05:47.055770Z",
     "iopub.status.idle": "2023-05-29T16:05:47.064801Z",
     "shell.execute_reply": "2023-05-29T16:05:47.063624Z"
    },
    "papermill": {
     "duration": 0.023924,
     "end_time": "2023-05-29T16:05:47.068741",
     "exception": false,
     "start_time": "2023-05-29T16:05:47.044817",
     "status": "completed"
    },
    "tags": []
   },
   "outputs": [],
   "source": [
    "y = pd.DataFrame(y)"
   ]
  },
  {
   "cell_type": "code",
   "execution_count": 6,
   "id": "738259be",
   "metadata": {
    "execution": {
     "iopub.execute_input": "2023-05-29T16:05:47.088032Z",
     "iopub.status.busy": "2023-05-29T16:05:47.087567Z",
     "iopub.status.idle": "2023-05-29T16:05:47.113707Z",
     "shell.execute_reply": "2023-05-29T16:05:47.112744Z"
    },
    "papermill": {
     "duration": 0.038741,
     "end_time": "2023-05-29T16:05:47.116326",
     "exception": false,
     "start_time": "2023-05-29T16:05:47.077585",
     "status": "completed"
    },
    "tags": []
   },
   "outputs": [
    {
     "data": {
      "text/html": [
       "<div>\n",
       "<style scoped>\n",
       "    .dataframe tbody tr th:only-of-type {\n",
       "        vertical-align: middle;\n",
       "    }\n",
       "\n",
       "    .dataframe tbody tr th {\n",
       "        vertical-align: top;\n",
       "    }\n",
       "\n",
       "    .dataframe thead th {\n",
       "        text-align: right;\n",
       "    }\n",
       "</style>\n",
       "<table border=\"1\" class=\"dataframe\">\n",
       "  <thead>\n",
       "    <tr style=\"text-align: right;\">\n",
       "      <th></th>\n",
       "      <th>0</th>\n",
       "    </tr>\n",
       "  </thead>\n",
       "  <tbody>\n",
       "    <tr>\n",
       "      <th>0</th>\n",
       "      <td>0</td>\n",
       "    </tr>\n",
       "    <tr>\n",
       "      <th>1</th>\n",
       "      <td>1</td>\n",
       "    </tr>\n",
       "    <tr>\n",
       "      <th>2</th>\n",
       "      <td>1</td>\n",
       "    </tr>\n",
       "    <tr>\n",
       "      <th>3</th>\n",
       "      <td>1</td>\n",
       "    </tr>\n",
       "    <tr>\n",
       "      <th>4</th>\n",
       "      <td>1</td>\n",
       "    </tr>\n",
       "  </tbody>\n",
       "</table>\n",
       "</div>"
      ],
      "text/plain": [
       "   0\n",
       "0  0\n",
       "1  1\n",
       "2  1\n",
       "3  1\n",
       "4  1"
      ]
     },
     "execution_count": 6,
     "metadata": {},
     "output_type": "execute_result"
    }
   ],
   "source": [
    "y.head()"
   ]
  },
  {
   "cell_type": "code",
   "execution_count": 7,
   "id": "f6b710c7",
   "metadata": {
    "execution": {
     "iopub.execute_input": "2023-05-29T16:05:47.136811Z",
     "iopub.status.busy": "2023-05-29T16:05:47.136167Z",
     "iopub.status.idle": "2023-05-29T16:05:47.169207Z",
     "shell.execute_reply": "2023-05-29T16:05:47.167815Z"
    },
    "papermill": {
     "duration": 0.046535,
     "end_time": "2023-05-29T16:05:47.171974",
     "exception": false,
     "start_time": "2023-05-29T16:05:47.125439",
     "status": "completed"
    },
    "tags": []
   },
   "outputs": [
    {
     "data": {
      "text/plain": [
       "1    30010\n",
       "0    29990\n",
       "dtype: int64"
      ]
     },
     "execution_count": 7,
     "metadata": {},
     "output_type": "execute_result"
    }
   ],
   "source": [
    "y.value_counts()"
   ]
  },
  {
   "cell_type": "code",
   "execution_count": 8,
   "id": "69f3dc2f",
   "metadata": {
    "execution": {
     "iopub.execute_input": "2023-05-29T16:05:47.193603Z",
     "iopub.status.busy": "2023-05-29T16:05:47.193164Z",
     "iopub.status.idle": "2023-05-29T16:05:47.199007Z",
     "shell.execute_reply": "2023-05-29T16:05:47.197783Z"
    },
    "papermill": {
     "duration": 0.020725,
     "end_time": "2023-05-29T16:05:47.202207",
     "exception": false,
     "start_time": "2023-05-29T16:05:47.181482",
     "status": "completed"
    },
    "tags": []
   },
   "outputs": [],
   "source": [
    "x = pd.DataFrame(x)"
   ]
  },
  {
   "cell_type": "code",
   "execution_count": 9,
   "id": "e9ea5648",
   "metadata": {
    "execution": {
     "iopub.execute_input": "2023-05-29T16:05:47.221621Z",
     "iopub.status.busy": "2023-05-29T16:05:47.220672Z",
     "iopub.status.idle": "2023-05-29T16:05:47.249914Z",
     "shell.execute_reply": "2023-05-29T16:05:47.248761Z"
    },
    "papermill": {
     "duration": 0.042007,
     "end_time": "2023-05-29T16:05:47.252763",
     "exception": false,
     "start_time": "2023-05-29T16:05:47.210756",
     "status": "completed"
    },
    "tags": []
   },
   "outputs": [
    {
     "data": {
      "text/html": [
       "<div>\n",
       "<style scoped>\n",
       "    .dataframe tbody tr th:only-of-type {\n",
       "        vertical-align: middle;\n",
       "    }\n",
       "\n",
       "    .dataframe tbody tr th {\n",
       "        vertical-align: top;\n",
       "    }\n",
       "\n",
       "    .dataframe thead th {\n",
       "        text-align: right;\n",
       "    }\n",
       "</style>\n",
       "<table border=\"1\" class=\"dataframe\">\n",
       "  <thead>\n",
       "    <tr style=\"text-align: right;\">\n",
       "      <th></th>\n",
       "      <th>0</th>\n",
       "      <th>1</th>\n",
       "      <th>2</th>\n",
       "      <th>3</th>\n",
       "      <th>4</th>\n",
       "      <th>5</th>\n",
       "      <th>6</th>\n",
       "      <th>7</th>\n",
       "      <th>8</th>\n",
       "      <th>9</th>\n",
       "      <th>...</th>\n",
       "      <th>15</th>\n",
       "      <th>16</th>\n",
       "      <th>17</th>\n",
       "      <th>18</th>\n",
       "      <th>19</th>\n",
       "      <th>20</th>\n",
       "      <th>21</th>\n",
       "      <th>22</th>\n",
       "      <th>23</th>\n",
       "      <th>24</th>\n",
       "    </tr>\n",
       "  </thead>\n",
       "  <tbody>\n",
       "    <tr>\n",
       "      <th>0</th>\n",
       "      <td>0.291149</td>\n",
       "      <td>1.034817</td>\n",
       "      <td>-1.047078</td>\n",
       "      <td>2.156125</td>\n",
       "      <td>-0.352130</td>\n",
       "      <td>-1.202354</td>\n",
       "      <td>-1.853588</td>\n",
       "      <td>-0.143623</td>\n",
       "      <td>0.803279</td>\n",
       "      <td>0.128984</td>\n",
       "      <td>...</td>\n",
       "      <td>0.897169</td>\n",
       "      <td>0.106990</td>\n",
       "      <td>-0.207067</td>\n",
       "      <td>-0.285809</td>\n",
       "      <td>0.753934</td>\n",
       "      <td>0.959433</td>\n",
       "      <td>0.982800</td>\n",
       "      <td>1.193064</td>\n",
       "      <td>0.256026</td>\n",
       "      <td>-0.667268</td>\n",
       "    </tr>\n",
       "    <tr>\n",
       "      <th>1</th>\n",
       "      <td>1.905479</td>\n",
       "      <td>-1.175499</td>\n",
       "      <td>0.520907</td>\n",
       "      <td>-0.670786</td>\n",
       "      <td>0.890115</td>\n",
       "      <td>0.076519</td>\n",
       "      <td>0.772870</td>\n",
       "      <td>-1.471259</td>\n",
       "      <td>1.239778</td>\n",
       "      <td>1.402459</td>\n",
       "      <td>...</td>\n",
       "      <td>-2.284689</td>\n",
       "      <td>0.271303</td>\n",
       "      <td>-0.082194</td>\n",
       "      <td>-0.600864</td>\n",
       "      <td>-0.727836</td>\n",
       "      <td>0.628411</td>\n",
       "      <td>-0.174455</td>\n",
       "      <td>-0.207725</td>\n",
       "      <td>1.828910</td>\n",
       "      <td>-0.633788</td>\n",
       "    </tr>\n",
       "    <tr>\n",
       "      <th>2</th>\n",
       "      <td>-0.217323</td>\n",
       "      <td>-1.161704</td>\n",
       "      <td>0.189438</td>\n",
       "      <td>0.420921</td>\n",
       "      <td>-0.518284</td>\n",
       "      <td>1.275790</td>\n",
       "      <td>0.723931</td>\n",
       "      <td>-0.244843</td>\n",
       "      <td>0.072023</td>\n",
       "      <td>0.214870</td>\n",
       "      <td>...</td>\n",
       "      <td>1.703742</td>\n",
       "      <td>-0.488470</td>\n",
       "      <td>-0.827182</td>\n",
       "      <td>-1.194397</td>\n",
       "      <td>0.303351</td>\n",
       "      <td>1.146431</td>\n",
       "      <td>0.850714</td>\n",
       "      <td>-1.104424</td>\n",
       "      <td>1.276213</td>\n",
       "      <td>1.065279</td>\n",
       "    </tr>\n",
       "    <tr>\n",
       "      <th>3</th>\n",
       "      <td>-0.554631</td>\n",
       "      <td>0.284032</td>\n",
       "      <td>-1.374606</td>\n",
       "      <td>0.585755</td>\n",
       "      <td>1.402866</td>\n",
       "      <td>0.166770</td>\n",
       "      <td>1.076645</td>\n",
       "      <td>1.561465</td>\n",
       "      <td>-1.005450</td>\n",
       "      <td>0.557491</td>\n",
       "      <td>...</td>\n",
       "      <td>0.574590</td>\n",
       "      <td>-0.210620</td>\n",
       "      <td>0.265748</td>\n",
       "      <td>0.004435</td>\n",
       "      <td>-0.303272</td>\n",
       "      <td>-2.465888</td>\n",
       "      <td>0.589372</td>\n",
       "      <td>0.859165</td>\n",
       "      <td>1.053871</td>\n",
       "      <td>-1.082764</td>\n",
       "    </tr>\n",
       "    <tr>\n",
       "      <th>4</th>\n",
       "      <td>1.726981</td>\n",
       "      <td>0.190323</td>\n",
       "      <td>0.764489</td>\n",
       "      <td>0.556704</td>\n",
       "      <td>1.951666</td>\n",
       "      <td>0.544751</td>\n",
       "      <td>1.321789</td>\n",
       "      <td>-1.205770</td>\n",
       "      <td>-0.085624</td>\n",
       "      <td>-0.117923</td>\n",
       "      <td>...</td>\n",
       "      <td>1.708054</td>\n",
       "      <td>-0.463948</td>\n",
       "      <td>0.571896</td>\n",
       "      <td>0.398442</td>\n",
       "      <td>0.597403</td>\n",
       "      <td>0.272485</td>\n",
       "      <td>-1.781709</td>\n",
       "      <td>0.797896</td>\n",
       "      <td>-0.559853</td>\n",
       "      <td>-1.610746</td>\n",
       "    </tr>\n",
       "  </tbody>\n",
       "</table>\n",
       "<p>5 rows × 25 columns</p>\n",
       "</div>"
      ],
      "text/plain": [
       "         0         1         2         3         4         5         6   \\\n",
       "0  0.291149  1.034817 -1.047078  2.156125 -0.352130 -1.202354 -1.853588   \n",
       "1  1.905479 -1.175499  0.520907 -0.670786  0.890115  0.076519  0.772870   \n",
       "2 -0.217323 -1.161704  0.189438  0.420921 -0.518284  1.275790  0.723931   \n",
       "3 -0.554631  0.284032 -1.374606  0.585755  1.402866  0.166770  1.076645   \n",
       "4  1.726981  0.190323  0.764489  0.556704  1.951666  0.544751  1.321789   \n",
       "\n",
       "         7         8         9   ...        15        16        17        18  \\\n",
       "0 -0.143623  0.803279  0.128984  ...  0.897169  0.106990 -0.207067 -0.285809   \n",
       "1 -1.471259  1.239778  1.402459  ... -2.284689  0.271303 -0.082194 -0.600864   \n",
       "2 -0.244843  0.072023  0.214870  ...  1.703742 -0.488470 -0.827182 -1.194397   \n",
       "3  1.561465 -1.005450  0.557491  ...  0.574590 -0.210620  0.265748  0.004435   \n",
       "4 -1.205770 -0.085624 -0.117923  ...  1.708054 -0.463948  0.571896  0.398442   \n",
       "\n",
       "         19        20        21        22        23        24  \n",
       "0  0.753934  0.959433  0.982800  1.193064  0.256026 -0.667268  \n",
       "1 -0.727836  0.628411 -0.174455 -0.207725  1.828910 -0.633788  \n",
       "2  0.303351  1.146431  0.850714 -1.104424  1.276213  1.065279  \n",
       "3 -0.303272 -2.465888  0.589372  0.859165  1.053871 -1.082764  \n",
       "4  0.597403  0.272485 -1.781709  0.797896 -0.559853 -1.610746  \n",
       "\n",
       "[5 rows x 25 columns]"
      ]
     },
     "execution_count": 9,
     "metadata": {},
     "output_type": "execute_result"
    }
   ],
   "source": [
    "x.head()"
   ]
  },
  {
   "cell_type": "markdown",
   "id": "3be3d903",
   "metadata": {
    "papermill": {
     "duration": 0.009186,
     "end_time": "2023-05-29T16:05:47.271367",
     "exception": false,
     "start_time": "2023-05-29T16:05:47.262181",
     "status": "completed"
    },
    "tags": []
   },
   "source": [
    "## Split data for train test"
   ]
  },
  {
   "cell_type": "code",
   "execution_count": 10,
   "id": "0c73f3b3",
   "metadata": {
    "execution": {
     "iopub.execute_input": "2023-05-29T16:05:47.292027Z",
     "iopub.status.busy": "2023-05-29T16:05:47.291323Z",
     "iopub.status.idle": "2023-05-29T16:05:47.421244Z",
     "shell.execute_reply": "2023-05-29T16:05:47.419996Z"
    },
    "papermill": {
     "duration": 0.143923,
     "end_time": "2023-05-29T16:05:47.424244",
     "exception": false,
     "start_time": "2023-05-29T16:05:47.280321",
     "status": "completed"
    },
    "tags": []
   },
   "outputs": [],
   "source": [
    "from sklearn.model_selection import train_test_split"
   ]
  },
  {
   "cell_type": "code",
   "execution_count": 11,
   "id": "9f7e5358",
   "metadata": {
    "execution": {
     "iopub.execute_input": "2023-05-29T16:05:47.447066Z",
     "iopub.status.busy": "2023-05-29T16:05:47.446450Z",
     "iopub.status.idle": "2023-05-29T16:05:47.473007Z",
     "shell.execute_reply": "2023-05-29T16:05:47.471153Z"
    },
    "papermill": {
     "duration": 0.042002,
     "end_time": "2023-05-29T16:05:47.476183",
     "exception": false,
     "start_time": "2023-05-29T16:05:47.434181",
     "status": "completed"
    },
    "tags": []
   },
   "outputs": [],
   "source": [
    "xtrain, xtest, ytrain, ytest = train_test_split(x,y,test_size=.25,random_state=1)"
   ]
  },
  {
   "cell_type": "code",
   "execution_count": 12,
   "id": "a3f11a82",
   "metadata": {
    "execution": {
     "iopub.execute_input": "2023-05-29T16:05:47.497699Z",
     "iopub.status.busy": "2023-05-29T16:05:47.497261Z",
     "iopub.status.idle": "2023-05-29T16:05:47.505123Z",
     "shell.execute_reply": "2023-05-29T16:05:47.503625Z"
    },
    "papermill": {
     "duration": 0.02283,
     "end_time": "2023-05-29T16:05:47.509295",
     "exception": false,
     "start_time": "2023-05-29T16:05:47.486465",
     "status": "completed"
    },
    "tags": []
   },
   "outputs": [
    {
     "data": {
      "text/plain": [
       "(45000, 25)"
      ]
     },
     "execution_count": 12,
     "metadata": {},
     "output_type": "execute_result"
    }
   ],
   "source": [
    "xtrain.shape"
   ]
  },
  {
   "cell_type": "code",
   "execution_count": 13,
   "id": "aa68e762",
   "metadata": {
    "execution": {
     "iopub.execute_input": "2023-05-29T16:05:47.532759Z",
     "iopub.status.busy": "2023-05-29T16:05:47.532303Z",
     "iopub.status.idle": "2023-05-29T16:05:47.538657Z",
     "shell.execute_reply": "2023-05-29T16:05:47.537214Z"
    },
    "papermill": {
     "duration": 0.023493,
     "end_time": "2023-05-29T16:05:47.542552",
     "exception": false,
     "start_time": "2023-05-29T16:05:47.519059",
     "status": "completed"
    },
    "tags": []
   },
   "outputs": [],
   "source": [
    "train_accuracy = []\n",
    "test_accuracy= []\n",
    "\n",
    "max_features = [n for n in range (1,25)] # 0 is avoided"
   ]
  },
  {
   "cell_type": "code",
   "execution_count": 14,
   "id": "afe0fb8a",
   "metadata": {
    "execution": {
     "iopub.execute_input": "2023-05-29T16:05:47.566002Z",
     "iopub.status.busy": "2023-05-29T16:05:47.565561Z",
     "iopub.status.idle": "2023-05-29T16:05:47.574516Z",
     "shell.execute_reply": "2023-05-29T16:05:47.573252Z"
    },
    "papermill": {
     "duration": 0.024027,
     "end_time": "2023-05-29T16:05:47.577303",
     "exception": false,
     "start_time": "2023-05-29T16:05:47.553276",
     "status": "completed"
    },
    "tags": []
   },
   "outputs": [
    {
     "data": {
      "text/plain": [
       "[1,\n",
       " 2,\n",
       " 3,\n",
       " 4,\n",
       " 5,\n",
       " 6,\n",
       " 7,\n",
       " 8,\n",
       " 9,\n",
       " 10,\n",
       " 11,\n",
       " 12,\n",
       " 13,\n",
       " 14,\n",
       " 15,\n",
       " 16,\n",
       " 17,\n",
       " 18,\n",
       " 19,\n",
       " 20,\n",
       " 21,\n",
       " 22,\n",
       " 23,\n",
       " 24]"
      ]
     },
     "execution_count": 14,
     "metadata": {},
     "output_type": "execute_result"
    }
   ],
   "source": [
    "max_features"
   ]
  },
  {
   "cell_type": "markdown",
   "id": "1d526aba",
   "metadata": {
    "papermill": {
     "duration": 0.009655,
     "end_time": "2023-05-29T16:05:47.598189",
     "exception": false,
     "start_time": "2023-05-29T16:05:47.588534",
     "status": "completed"
    },
    "tags": []
   },
   "source": [
    "## Decision Tree"
   ]
  },
  {
   "cell_type": "code",
   "execution_count": 15,
   "id": "a6455621",
   "metadata": {
    "execution": {
     "iopub.execute_input": "2023-05-29T16:05:47.621704Z",
     "iopub.status.busy": "2023-05-29T16:05:47.621270Z",
     "iopub.status.idle": "2023-05-29T16:05:47.953760Z",
     "shell.execute_reply": "2023-05-29T16:05:47.952366Z"
    },
    "papermill": {
     "duration": 0.347821,
     "end_time": "2023-05-29T16:05:47.957046",
     "exception": false,
     "start_time": "2023-05-29T16:05:47.609225",
     "status": "completed"
    },
    "tags": []
   },
   "outputs": [],
   "source": [
    "from sklearn.tree import DecisionTreeClassifier"
   ]
  },
  {
   "cell_type": "code",
   "execution_count": 16,
   "id": "d59a2a67",
   "metadata": {
    "execution": {
     "iopub.execute_input": "2023-05-29T16:05:47.980261Z",
     "iopub.status.busy": "2023-05-29T16:05:47.979121Z",
     "iopub.status.idle": "2023-05-29T16:06:44.992579Z",
     "shell.execute_reply": "2023-05-29T16:06:44.990588Z"
    },
    "papermill": {
     "duration": 57.028273,
     "end_time": "2023-05-29T16:06:44.995757",
     "exception": false,
     "start_time": "2023-05-29T16:05:47.967484",
     "status": "completed"
    },
    "tags": []
   },
   "outputs": [
    {
     "name": "stdout",
     "output_type": "stream",
     "text": [
      "Max Depth = 1, Train Accuracy = 0.979022, Test Accuracy = 0.978800\n",
      "Max Depth = 2, Train Accuracy = 0.983067, Test Accuracy = 0.982467\n",
      "Max Depth = 3, Train Accuracy = 0.988133, Test Accuracy = 0.987800\n",
      "Max Depth = 4, Train Accuracy = 0.989444, Test Accuracy = 0.989200\n",
      "Max Depth = 5, Train Accuracy = 0.989578, Test Accuracy = 0.988800\n",
      "Max Depth = 6, Train Accuracy = 0.990489, Test Accuracy = 0.989400\n",
      "Max Depth = 7, Train Accuracy = 0.990978, Test Accuracy = 0.989667\n",
      "Max Depth = 8, Train Accuracy = 0.991133, Test Accuracy = 0.989533\n",
      "Max Depth = 9, Train Accuracy = 0.991711, Test Accuracy = 0.989533\n",
      "Max Depth = 10, Train Accuracy = 0.992044, Test Accuracy = 0.989467\n",
      "Max Depth = 11, Train Accuracy = 0.993111, Test Accuracy = 0.989867\n",
      "Max Depth = 12, Train Accuracy = 0.993711, Test Accuracy = 0.990400\n",
      "Max Depth = 13, Train Accuracy = 0.994089, Test Accuracy = 0.989667\n",
      "Max Depth = 14, Train Accuracy = 0.994444, Test Accuracy = 0.989733\n",
      "Max Depth = 15, Train Accuracy = 0.994778, Test Accuracy = 0.989000\n",
      "Max Depth = 16, Train Accuracy = 0.995178, Test Accuracy = 0.988533\n",
      "Max Depth = 17, Train Accuracy = 0.995578, Test Accuracy = 0.988867\n",
      "Max Depth = 18, Train Accuracy = 0.995911, Test Accuracy = 0.988333\n",
      "Max Depth = 19, Train Accuracy = 0.996267, Test Accuracy = 0.987933\n",
      "Max Depth = 20, Train Accuracy = 0.996778, Test Accuracy = 0.987400\n",
      "Max Depth = 21, Train Accuracy = 0.997356, Test Accuracy = 0.987067\n",
      "Max Depth = 22, Train Accuracy = 0.997867, Test Accuracy = 0.985667\n",
      "Max Depth = 23, Train Accuracy = 0.998333, Test Accuracy = 0.986600\n",
      "Max Depth = 24, Train Accuracy = 0.998733, Test Accuracy = 0.985467\n"
     ]
    }
   ],
   "source": [
    "for depth in max_features:\n",
    "    clf = DecisionTreeClassifier(max_depth=depth)\n",
    "    clf.fit(xtrain,ytrain) #training\n",
    "    \n",
    "    # train accuracy\n",
    "    train_acc = clf.score(xtrain,ytrain)\n",
    "    train_accuracy.append(train_acc)\n",
    "    \n",
    "    # test accuracy\n",
    "    test_acc = clf.score(xtest,ytest)\n",
    "    test_accuracy.append(test_acc)\n",
    "    \n",
    "    print('Max Depth = %d, Train Accuracy = %f, Test Accuracy = %f' %(depth,train_acc,test_acc))"
   ]
  },
  {
   "cell_type": "markdown",
   "id": "cfbb5cc1",
   "metadata": {
    "papermill": {
     "duration": 0.013057,
     "end_time": "2023-05-29T16:06:45.020736",
     "exception": false,
     "start_time": "2023-05-29T16:06:45.007679",
     "status": "completed"
    },
    "tags": []
   },
   "source": [
    "## Visualize Result"
   ]
  },
  {
   "cell_type": "code",
   "execution_count": 17,
   "id": "f28f26a3",
   "metadata": {
    "execution": {
     "iopub.execute_input": "2023-05-29T16:06:45.047073Z",
     "iopub.status.busy": "2023-05-29T16:06:45.045724Z",
     "iopub.status.idle": "2023-05-29T16:06:45.053637Z",
     "shell.execute_reply": "2023-05-29T16:06:45.052077Z"
    },
    "papermill": {
     "duration": 0.023993,
     "end_time": "2023-05-29T16:06:45.056588",
     "exception": false,
     "start_time": "2023-05-29T16:06:45.032595",
     "status": "completed"
    },
    "tags": []
   },
   "outputs": [],
   "source": [
    "from matplotlib import pyplot as plt"
   ]
  },
  {
   "cell_type": "code",
   "execution_count": 18,
   "id": "75e6a958",
   "metadata": {
    "execution": {
     "iopub.execute_input": "2023-05-29T16:06:45.082363Z",
     "iopub.status.busy": "2023-05-29T16:06:45.081426Z",
     "iopub.status.idle": "2023-05-29T16:06:45.430766Z",
     "shell.execute_reply": "2023-05-29T16:06:45.429520Z"
    },
    "papermill": {
     "duration": 0.365124,
     "end_time": "2023-05-29T16:06:45.433405",
     "exception": false,
     "start_time": "2023-05-29T16:06:45.068281",
     "status": "completed"
    },
    "tags": []
   },
   "outputs": [
    {
     "data": {
      "text/plain": [
       "[<matplotlib.lines.Line2D at 0x793947cfa950>]"
      ]
     },
     "execution_count": 18,
     "metadata": {},
     "output_type": "execute_result"
    },
    {
     "data": {
      "image/png": "[encoded data removed]",
      "text/plain": [
       "<Figure size 640x480 with 1 Axes>"
      ]
     },
     "metadata": {},
     "output_type": "display_data"
    }
   ],
   "source": [
    "plt.plot(max_features,train_accuracy)\n",
    "plt.plot(max_features,test_accuracy)"
   ]
  },
  {
   "cell_type": "code",
   "execution_count": 19,
   "id": "9f212662",
   "metadata": {
    "execution": {
     "iopub.execute_input": "2023-05-29T16:06:45.459954Z",
     "iopub.status.busy": "2023-05-29T16:06:45.459263Z",
     "iopub.status.idle": "2023-05-29T16:06:45.815526Z",
     "shell.execute_reply": "2023-05-29T16:06:45.813736Z"
    },
    "papermill": {
     "duration": 0.372924,
     "end_time": "2023-05-29T16:06:45.818257",
     "exception": false,
     "start_time": "2023-05-29T16:06:45.445333",
     "status": "completed"
    },
    "tags": []
   },
   "outputs": [
    {
     "data": {
      "text/plain": [
       "<matplotlib.legend.Legend at 0x793947d360b0>"
      ]
     },
     "execution_count": 19,
     "metadata": {},
     "output_type": "execute_result"
    },
    {
     "data": {
      "image/png": "[encoded data removed]",
      "text/plain": [
       "<Figure size 640x480 with 1 Axes>"
      ]
     },
     "metadata": {},
     "output_type": "display_data"
    }
   ],
   "source": [
    "plt.plot(max_features,train_accuracy, '-o',color='red', label='Train')\n",
    "plt.plot(max_features,test_accuracy, '-o',color='green', label='test')\n",
    "plt.legend()"
   ]
  },
  {
   "cell_type": "markdown",
   "id": "37a822cf",
   "metadata": {
    "papermill": {
     "duration": 0.014019,
     "end_time": "2023-05-29T16:06:45.846738",
     "exception": false,
     "start_time": "2023-05-29T16:06:45.832719",
     "status": "completed"
    },
    "tags": []
   },
   "source": [
    "# Part 2"
   ]
  }
 ],
 "metadata": {
  "kernelspec": {
   "display_name": "Python 3",
   "language": "python",
   "name": "python3"
  },
  "language_info": {
   "codemirror_mode": {
    "name": "ipython",
    "version": 3
   },
   "file_extension": ".py",
   "mimetype": "text/x-python",
   "name": "python",
   "nbconvert_exporter": "python",
   "pygments_lexer": "ipython3",
   "version": "3.10.10"
  },
  "papermill": {
   "default_parameters": {},
   "duration": 79.872198,
   "end_time": "2023-05-29T16:06:46.989090",
   "environment_variables": {},
   "exception": null,
   "input_path": "__notebook__.ipynb",
   "output_path": "__notebook__.ipynb",
   "parameters": {},
   "start_time": "2023-05-29T16:05:27.116892",
   "version": "2.4.0"
  }
 },
 "nbformat": 4,
 "nbformat_minor": 5
}
